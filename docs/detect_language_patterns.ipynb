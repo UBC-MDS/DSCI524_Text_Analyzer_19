{
 "cells": [
  {
   "cell_type": "code",
   "execution_count": 1,
   "metadata": {},
   "outputs": [
    {
     "name": "stdout",
     "output_type": "stream",
     "text": [
      "1.2\n"
     ]
    }
   ],
   "source": [
    "import txtanalyzer\n",
    "\n",
    "print(txtanalyzer.__version__)"
   ]
  },
  {
   "cell_type": "markdown",
   "metadata": {},
   "source": [
    "# Detect Language Patterns "
   ]
  },
  {
   "cell_type": "markdown",
   "metadata": {},
   "source": [
    "Detecting language patterns is a great tool to get a better understanding of text data. \n",
    "\n",
    "The `detect_language_patterns`function spots patterns like common n-grams (word combinations), frequently used characters, or the mix of languages in a dataset. These patterns can help you see key trends and details in the text, like often-mentioned terms, writing styles, or the overall language makeup.\n"
   ]
  },
  {
   "cell_type": "markdown",
   "metadata": {},
   "source": [
    "# Imports "
   ]
  },
  {
   "cell_type": "markdown",
   "metadata": {},
   "source": [
    "To use the language pattern detection function, import `detect_language_patterns` from `txtanalyzer.detect_language_patterns` as shown below."
   ]
  },
  {
   "cell_type": "code",
   "execution_count": 2,
   "metadata": {},
   "outputs": [],
   "source": [
    "from txtanalyzer.detect_language_patterns import detect_language_patterns"
   ]
  },
  {
   "cell_type": "markdown",
   "metadata": {},
   "source": [
    "We are using the sample text below for the example usage of the language pattern detection function. The sample covers a mix of themes, including artificial intelligence and meditation."
   ]
  },
  {
   "cell_type": "code",
   "execution_count": 3,
   "metadata": {},
   "outputs": [],
   "source": [
    "sample_text = [\n",
    "    \"Artificial intelligence and machine learning are transforming industries around the globe.\",\n",
    "    \"The basketball team secured a thrilling victory in the final seconds of the game.\",\n",
    "    \"Yoga and meditation are excellent for reducing stress and improving mental health.\",\n",
    "    \"Exploring the hidden beaches of Bali is an unforgettable experience for any traveler.\",\n",
    "    \"Quantum computing is expected to revolutionize data processing and cryptography.\",\n",
    "    \"L'intelligence artificielle et l'apprentissage automatique transforment les industries du monde entier.\",\n",
    "    \"L'équipe de basket-ball a remporté une victoire passionnante dans les dernières secondes du match.\",\n",
    "    \"Le yoga et la méditation sont excellents pour réduire le stress et améliorer la santé mentale.\",\n",
    "    \"L'exploration des plages cachées de Bali est une expérience inoubliable pour tout voyageur.\",\n",
    "    \"L'informatique quantique devrait révolutionner le traitement des données et la cryptographie.\",\n",
    "    \"人工智能和机器学习正在改变全球各行各业。\",\n",
    "    \"篮球队在比赛的最后几秒钟取得了激动人心的胜利。\",\n",
    "    \"瑜伽和冥想是减压和改善心理健康的绝佳方式。\",\n",
    "    \"探索巴厘岛隐秘的海滩对任何旅行者来说都是一次难忘的经历。\",\n",
    "    \"量子计算有望彻底改变数据处理和密码学。\"\n",
    "]"
   ]
  },
  {
   "cell_type": "markdown",
   "metadata": {},
   "source": [
    "# Usage"
   ]
  },
  {
   "cell_type": "markdown",
   "metadata": {},
   "source": [
    "The example below demonstrates how to use the **`detect_language_patterns`** function to analyze the sample text."
   ]
  },
  {
   "cell_type": "markdown",
   "metadata": {},
   "source": [
    "1. **Language Detection**  \n",
    "   The first part detects the language of each message in the sample text by setting the parameter `method=\"language\"`. The result is a list of detected languages, where each entry corresponds to the language of a sentence in the sample text."
   ]
  },
  {
   "cell_type": "code",
   "execution_count": 4,
   "metadata": {},
   "outputs": [
    {
     "name": "stdout",
     "output_type": "stream",
     "text": [
      "['en', 'en', 'en', 'en', 'en', 'fr', 'fr', 'fr', 'fr', 'fr', 'zh-cn', 'zh-cn', 'zh-tw', 'zh-cn', 'zh-cn']\n"
     ]
    }
   ],
   "source": [
    "# Detect the language of each message in the sample text\n",
    "result = detect_language_patterns(sample_text, method=\"language\")\n",
    "print(result)"
   ]
  },
  {
   "cell_type": "markdown",
   "metadata": {},
   "source": [
    "Each detected language (`en` for English, `fr` for French, and `zh-cn` for Chinese) corresponds to a sentence in the sample_text.\n"
   ]
  },
  {
   "cell_type": "markdown",
   "metadata": {},
   "source": [
    "2. **Bigram Extraction**  \n",
    "   The second part identifies the top 5 most common bigrams (two-word combinations) in the sample text by setting the parameters `method=\"ngrams\"`, `n=2`, and `top_n=5`. The output shows the bigrams along with their frequencies.\n"
   ]
  },
  {
   "cell_type": "code",
   "execution_count": 5,
   "metadata": {},
   "outputs": [
    {
     "name": "stdout",
     "output_type": "stream",
     "text": [
      "[('et la', 2), ('artificial intelligence', 1), ('intelligence and', 1), ('and machine', 1), ('machine learning', 1)]\n"
     ]
    }
   ],
   "source": [
    "# Extract the top 5 most common bigrams (two-word combinations)\n",
    "result = detect_language_patterns(sample_text, method=\"ngrams\", n=2, top_n=5)\n",
    "print(result)\n"
   ]
  },
  {
   "cell_type": "markdown",
   "metadata": {},
   "source": [
    "The bigram `et la` appears twice in the French sentences, while other bigrams occur once in the English sentences."
   ]
  }
 ],
 "metadata": {
  "kernelspec": {
   "display_name": "Python [conda env:text]",
   "language": "python",
   "name": "conda-env-text-py"
  },
  "language_info": {
   "codemirror_mode": {
    "name": "ipython",
    "version": 3
   },
   "file_extension": ".py",
   "mimetype": "text/x-python",
   "name": "python",
   "nbconvert_exporter": "python",
   "pygments_lexer": "ipython3",
   "version": "3.9.21"
  }
 },
 "nbformat": 4,
 "nbformat_minor": 4
}

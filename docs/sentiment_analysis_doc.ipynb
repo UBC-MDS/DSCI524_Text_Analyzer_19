{
 "cells": [
  {
   "cell_type": "code",
   "execution_count": 1,
   "id": "2b395aa8-e66e-4a5c-a1b6-332ad0d81a88",
   "metadata": {},
   "outputs": [],
   "source": [
    "sample_text = [\n",
    "    \"Artificial intelligence and machine learning are transforming industries around the globe.\",\n",
    "    \"The basketball team secured a thrilling victory in the final seconds of the game.\",\n",
    "    \"Yoga and meditation are excellent for reducing stress and improving mental health.\",\n",
    "    \"Exploring the hidden beaches of Bali is an unforgettable experience for any traveler.\",\n",
    "    \"Quantum computing is expected to revolutionize data processing and cryptography.\"\n",
    "]"
   ]
  },
  {
   "cell_type": "markdown",
   "id": "77441e8b-f551-48e3-982e-e950abec132e",
   "metadata": {},
   "source": [
    "# Sentiment Analysis"
   ]
  },
  {
   "cell_type": "markdown",
   "id": "7ba76561-a1cd-4d26-9a22-46e248d1451d",
   "metadata": {},
   "source": [
    "The sentiment analysis also evaluates the sentiment of one or more input messages using TextBlob. Our function calculates a polarity score and labels the sentiment as positive, negative, or neutral. If the sentiment is highly negative (below -0.2), it triggers an alert. The function returns a list of dictionaries with the message, sentiment score, label, and alert flag if applicable."
   ]
  },
  {
   "cell_type": "markdown",
   "id": "dd6f4579-8340-40c8-9630-3da29dc4d9d7",
   "metadata": {},
   "source": [
    "To use the keyword extraction function, import `analyze_sentiment` from txtanalyzer.analyze_sentiment"
   ]
  },
  {
   "cell_type": "code",
   "execution_count": 1,
   "id": "35f12161-2f93-4b26-b628-d929a91789ea",
   "metadata": {},
   "outputs": [
    {
     "ename": "ModuleNotFoundError",
     "evalue": "No module named 'txtanalyzer'",
     "output_type": "error",
     "traceback": [
      "\u001b[0;31m---------------------------------------------------------------------------\u001b[0m",
      "\u001b[0;31mModuleNotFoundError\u001b[0m                       Traceback (most recent call last)",
      "Cell \u001b[0;32mIn[1], line 1\u001b[0m\n\u001b[0;32m----> 1\u001b[0m \u001b[38;5;28;01mfrom\u001b[39;00m\u001b[38;5;250m \u001b[39m\u001b[38;5;21;01mtxtanalyzer\u001b[39;00m\u001b[38;5;21;01m.\u001b[39;00m\u001b[38;5;21;01manalyze_sentiment\u001b[39;00m\u001b[38;5;250m \u001b[39m\u001b[38;5;28;01mimport\u001b[39;00m analyze_sentiment\n",
      "\u001b[0;31mModuleNotFoundError\u001b[0m: No module named 'txtanalyzer'"
     ]
    }
   ],
   "source": [
    "from txtanalyzer.analyze_sentiment import analyze_sentiment"
   ]
  },
  {
   "cell_type": "markdown",
   "id": "242b125e-7fbc-4675-ae39-4556379ebaa8",
   "metadata": {},
   "source": [
    "Below shows how to use `analyze_sentiment` function to perform sentiment analysis with our sample_text. The \"Default\" model here utilizes the pretrained model from TextBlob. The sentiment of each text string will be evaluated through the model's polarity, and will be categorized as postive, negative and neutral by the value. In addition, we would pay more attention to those text messages that convey highly negative content, and will trigger alert if the value is smaller than the threshold -0.2."
   ]
  },
  {
   "cell_type": "code",
   "execution_count": 1,
   "id": "a284240e-dd37-4968-85bb-021c0f58f148",
   "metadata": {},
   "outputs": [
    {
     "ename": "NameError",
     "evalue": "name 'analyze_sentiment' is not defined",
     "output_type": "error",
     "traceback": [
      "\u001b[0;31m---------------------------------------------------------------------------\u001b[0m",
      "\u001b[0;31mNameError\u001b[0m                                 Traceback (most recent call last)",
      "Cell \u001b[0;32mIn[1], line 1\u001b[0m\n\u001b[0;32m----> 1\u001b[0m \u001b[43manalyze_sentiment\u001b[49m(sample_text, \u001b[38;5;124m\"\u001b[39m\u001b[38;5;124mDefault\u001b[39m\u001b[38;5;124m\"\u001b[39m)\n",
      "\u001b[0;31mNameError\u001b[0m: name 'analyze_sentiment' is not defined"
     ]
    }
   ],
   "source": [
    "analyze_sentiment(sample_text, \"Default\")"
   ]
  },
  {
   "cell_type": "markdown",
   "id": "a475ae99-2a50-4e3d-a132-9e2cf63c4d97",
   "metadata": {},
   "source": [
    "The above results shows that in our sample text, the first, second and last text strings contains negative sentiments, while the other two strings convey positive sentiments. An extra alert is printed too because the first text message 'Artificial intelligence and machine learning are transforming industries around the globe.' has a very high negative polarity score that is less than -0.2."
   ]
  }
 ],
 "metadata": {
  "kernelspec": {
   "display_name": "Python 3 (ipykernel)",
   "language": "python",
   "name": "python3"
  },
  "language_info": {
   "codemirror_mode": {
    "name": "ipython",
    "version": 3
   },
   "file_extension": ".py",
   "mimetype": "text/x-python",
   "name": "python",
   "nbconvert_exporter": "python",
   "pygments_lexer": "ipython3",
   "version": "3.9.18"
  }
 },
 "nbformat": 4,
 "nbformat_minor": 5
}

{
 "cells": [
  {
   "cell_type": "code",
   "execution_count": 3,
   "id": "8d05ee9e-340b-4a67-a110-71faeb6bd957",
   "metadata": {},
   "outputs": [
    {
     "name": "stdout",
     "output_type": "stream",
     "text": [
      "0.1.0\n"
     ]
    }
   ],
   "source": [
    "import textanalyzer\n",
    "\n",
    "print(textanalyzer.__version__)"
   ]
  },
  {
   "cell_type": "markdown",
   "id": "628a0154-54a7-43a9-ad3b-41e2f07cfd5d",
   "metadata": {},
   "source": [
    "## Imports"
   ]
  },
  {
   "cell_type": "markdown",
   "id": "43a0d24a-fb1f-4fe6-9ffa-fa8c52c60154",
   "metadata": {},
   "source": [
    "Import `topic_modeling` from `textanalyzer.topic_modeling`."
   ]
  },
  {
   "cell_type": "code",
   "execution_count": 4,
   "id": "5d6a1e87-1f52-4f0a-a660-2126a27deb0a",
   "metadata": {},
   "outputs": [],
   "source": [
    "from textanalyzer.topic_modeling import topic_modeling"
   ]
  },
  {
   "cell_type": "markdown",
   "id": "8628d541-ce9c-4cbd-8c94-cf28d2188943",
   "metadata": {},
   "source": [
    "We are using the below sample text for the example usage."
   ]
  },
  {
   "cell_type": "code",
   "execution_count": 5,
   "id": "88ba769e-348b-47fa-aa73-8cfa98397e8d",
   "metadata": {},
   "outputs": [],
   "source": [
    "sample_text = [\n",
    "    \"Artificial intelligence and machine learning are transforming industries around the globe.\",\n",
    "    \"The basketball team secured a thrilling victory in the final seconds of the game.\",\n",
    "    \"Yoga and meditation are excellent for reducing stress and improving mental health.\",\n",
    "    \"Exploring the hidden beaches of Bali is an unforgettable experience for any traveler.\",\n",
    "    \"Quantum computing is expected to revolutionize data processing and cryptography.\"\n",
    "]"
   ]
  },
  {
   "cell_type": "markdown",
   "id": "9795905c-6deb-432c-ab55-47a2c25c05a3",
   "metadata": {},
   "source": [
    "Extract 10 topics from the sample texts where each topic is represented by 3 words. A runtime warning will be returned but it is expected due to the computation of Non-negative Matrix Factorization algorithm in the function."
   ]
  },
  {
   "cell_type": "markdown",
   "id": "dd231992-5df8-433d-a529-badc88889dd8",
   "metadata": {},
   "source": [
    "## Usage"
   ]
  },
  {
   "cell_type": "code",
   "execution_count": 8,
   "id": "40ee20ee-8225-4bf4-bb4a-ef1d2cce013a",
   "metadata": {},
   "outputs": [
    {
     "name": "stderr",
     "output_type": "stream",
     "text": [
      "/Users/adrianleung/miniforge3/envs/text/lib/python3.9/site-packages/sklearn/decomposition/_nmf.py:133: RuntimeWarning: invalid value encountered in sqrt\n",
      "  return np.sqrt(res * 2)\n"
     ]
    },
    {
     "data": {
      "text/plain": [
       "{'Topic 1': ['transforming', 'processing', 'quantum'],\n",
       " 'Topic 2': ['game', 'final', 'basketball'],\n",
       " 'Topic 3': ['yoga', 'stress', 'health'],\n",
       " 'Topic 4': ['machine', 'learning', 'globe'],\n",
       " 'Topic 5': ['hidden', 'experience', 'unforgettable'],\n",
       " 'Topic 6': ['basketball', 'game', 'final'],\n",
       " 'Topic 7': ['expected', 'computing', 'revolutionize'],\n",
       " 'Topic 8': ['artificial', 'industries', 'intelligence'],\n",
       " 'Topic 9': ['victory', 'secured', 'seconds'],\n",
       " 'Topic 10': ['quantum', 'data', 'cryptography']}"
      ]
     },
     "execution_count": 8,
     "metadata": {},
     "output_type": "execute_result"
    }
   ],
   "source": [
    "topic_modeling(sample_text, n_topics = 10, n_words = 3)"
   ]
  },
  {
   "cell_type": "markdown",
   "id": "97579079-9ce9-4267-93d6-4dc91f9caa59",
   "metadata": {},
   "source": [
    "Extract 5 topics from the sample texts where each topic is represented by 5 words."
   ]
  },
  {
   "cell_type": "code",
   "execution_count": 9,
   "id": "23644a11-132a-4e15-8399-ac0b72fb31fb",
   "metadata": {},
   "outputs": [
    {
     "name": "stderr",
     "output_type": "stream",
     "text": [
      "/Users/adrianleung/miniforge3/envs/text/lib/python3.9/site-packages/sklearn/decomposition/_nmf.py:133: RuntimeWarning: invalid value encountered in sqrt\n",
      "  return np.sqrt(res * 2)\n"
     ]
    },
    {
     "data": {
      "text/plain": [
       "{'Topic 1': ['hidden', 'experience', 'unforgettable', 'traveler', 'bali'],\n",
       " 'Topic 2': ['revolutionize', 'quantum', 'computing', 'cryptography', 'data'],\n",
       " 'Topic 3': ['intelligence', 'machine', 'globe', 'industries', 'learning'],\n",
       " 'Topic 4': ['yoga', 'stress', 'health', 'meditation', 'mental'],\n",
       " 'Topic 5': ['basketball', 'victory', 'thrilling', 'team', 'game']}"
      ]
     },
     "execution_count": 9,
     "metadata": {},
     "output_type": "execute_result"
    }
   ],
   "source": [
    "topic_modeling(sample_text, n_topics = 5, n_words = 5)"
   ]
  }
 ],
 "metadata": {
  "kernelspec": {
   "display_name": "Python [conda env:text]",
   "language": "python",
   "name": "conda-env-text-py"
  },
  "language_info": {
   "codemirror_mode": {
    "name": "ipython",
    "version": 3
   },
   "file_extension": ".py",
   "mimetype": "text/x-python",
   "name": "python",
   "nbconvert_exporter": "python",
   "pygments_lexer": "ipython3",
   "version": "3.9.21"
  }
 },
 "nbformat": 4,
 "nbformat_minor": 5
}

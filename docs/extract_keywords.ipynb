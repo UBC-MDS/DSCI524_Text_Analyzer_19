{
 "cells": [
  {
   "cell_type": "code",
   "execution_count": 1,
   "id": "49fcb571-c7d9-4df2-8acb-ac47508ce6fc",
   "metadata": {},
   "outputs": [
    {
     "name": "stdout",
     "output_type": "stream",
     "text": [
      "0.1.0\n"
     ]
    }
   ],
   "source": [
    "import txtanalyzer\n",
    "\n",
    "print(txtanalyzer.__version__)"
   ]
  },
  {
   "cell_type": "markdown",
   "id": "b83d299f-6329-4d0d-9bc5-86b511e58660",
   "metadata": {},
   "source": [
    "# Keyword Extraction"
   ]
  },
  {
   "cell_type": "markdown",
   "id": "be32d25d-1a86-4dc3-a1d0-511a19ee01b0",
   "metadata": {},
   "source": [
    "Keyword extraction is a technique to identify and extract the most relevant words or phrases from a given set of text data. This function supports keyword extraction using Term Frequency-Inverse Document Frequency (TF-IDF). It is helpful in summarizing text, identifying key terms, or preprocessing data for further text analysis tasks."
   ]
  },
  {
   "cell_type": "markdown",
   "id": "c5cc6d32-8bbd-4f3b-ae98-4482557cafb3",
   "metadata": {},
   "source": [
    "# Imports"
   ]
  },
  {
   "cell_type": "markdown",
   "id": "9dee6107-e8d7-4f63-b121-e180b430575a",
   "metadata": {},
   "source": [
    "To use the keyword extraction function, import extract_keywords from your Python script or package where the function is implemented."
   ]
  },
  {
   "cell_type": "code",
   "execution_count": 2,
   "id": "5577e454-0295-4bd8-bcad-2183e0b480ee",
   "metadata": {},
   "outputs": [],
   "source": [
    "from txtanalyzer.extract_keywords import extract_keywords"
   ]
  },
  {
   "cell_type": "markdown",
   "id": "97a41ea3-6766-46de-9f25-6dbf69f83bd6",
   "metadata": {},
   "source": [
    "Below is a sample set of messages used as input for the keyword extraction function. The messages cover various topics to demonstrate the function's capability to extract relevant keywords."
   ]
  },
  {
   "cell_type": "code",
   "execution_count": 3,
   "id": "db3a04c4-dfa7-4b2c-8b6f-4e63f9f1f75e",
   "metadata": {},
   "outputs": [],
   "source": [
    "sample_text = [\n",
    "    \"Artificial intelligence and machine learning are transforming industries around the globe.\",\n",
    "    \"The basketball team secured a thrilling victory in the final seconds of the game.\",\n",
    "    \"Yoga and meditation are excellent for reducing stress and improving mental health.\",\n",
    "    \"Exploring the hidden beaches of Bali is an unforgettable experience for any traveler.\",\n",
    "    \"Quantum computing is expected to revolutionize data processing and cryptography.\"\n",
    "]"
   ]
  },
  {
   "cell_type": "markdown",
   "id": "897295e0-490e-42d5-9ade-ab683fc6ae10",
   "metadata": {},
   "source": [
    "# Usage"
   ]
  },
  {
   "cell_type": "markdown",
   "id": "c19faa15-8064-4c83-b8ef-7bde628b8feb",
   "metadata": {},
   "source": [
    "Below extracts top keywords from the list of messages using TF-IDF. Each message's keywords are determined based on their importance relative to the entire corpus. This is made possible by specifying the parameter `method`=\"tfidf\" and `num_keywords` = 3."
   ]
  },
  {
   "cell_type": "code",
   "execution_count": 4,
   "id": "daa9207c-9348-49a2-a05a-db09e1b515a0",
   "metadata": {},
   "outputs": [
    {
     "name": "stdout",
     "output_type": "stream",
     "text": [
      "[['transforming', 'machine', 'learning'], ['victory', 'thrilling', 'team'], ['yoga', 'stress', 'reducing'], ['unforgettable', 'traveler', 'hidden'], ['revolutionize', 'quantum', 'processing']]\n"
     ]
    }
   ],
   "source": [
    "keywords = extract_keywords(sample_text, method=\"tfidf\", num_keywords=3)\n",
    "\n",
    "print(keywords)"
   ]
  }
 ],
 "metadata": {
  "kernelspec": {
   "display_name": "text",
   "language": "python",
   "name": "python3"
  },
  "language_info": {
   "codemirror_mode": {
    "name": "ipython",
    "version": 3
   },
   "file_extension": ".py",
   "mimetype": "text/x-python",
   "name": "python",
   "nbconvert_exporter": "python",
   "pygments_lexer": "ipython3",
   "version": "3.9.21"
  }
 },
 "nbformat": 4,
 "nbformat_minor": 5
}
